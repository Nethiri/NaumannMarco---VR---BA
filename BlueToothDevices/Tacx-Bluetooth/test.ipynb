{
 "cells": [
  {
   "cell_type": "code",
   "execution_count": null,
   "metadata": {},
   "outputs": [],
   "source": [
    "#Useful stuff\n",
    "\n",
    "#Libary/Docs\n",
    "#https://pypi.org/project/pycycling/"
   ]
  },
  {
   "cell_type": "code",
   "execution_count": 1,
   "metadata": {},
   "outputs": [],
   "source": [
    "import asyncio\n",
    "import os\n",
    "from bleak import BleakClient\n",
    "\n",
    "from pycycling.tacx_trainer_control import TacxTrainerControl"
   ]
  },
  {
   "cell_type": "code",
   "execution_count": 2,
   "metadata": {},
   "outputs": [
    {
     "name": "stderr",
     "output_type": "stream",
     "text": [
      "UsageError: Line magic function `%%asyncio` not found.\n"
     ]
    }
   ],
   "source": [
    "#%%script false --no-raise-error\n",
    "%%asyncio\n",
    "\n",
    "async def run(address):\n",
    "    async with BleakClient(address) as client:\n",
    "        def my_page_handler(data):\n",
    "            print(data)\n",
    "\n",
    "        await client.is_connected()\n",
    "        trainer = TacxTrainerControl(client)\n",
    "        trainer.set_specific_trainer_data_page_handler(my_page_handler)\n",
    "        trainer.set_general_fe_data_page_handler(my_page_handler)\n",
    "        await trainer.enable_fec_notifications()\n",
    "        await trainer.set_basic_resistance(20)\n",
    "        await asyncio.sleep(20.0)\n",
    "        await trainer.set_basic_resistance(40)\n",
    "        await asyncio.sleep(20.0)\n",
    "        await trainer.disable_fec_notifications()\n",
    "\n"
   ]
  },
  {
   "cell_type": "code",
   "execution_count": 3,
   "metadata": {},
   "outputs": [
    {
     "name": "stderr",
     "output_type": "stream",
     "text": [
      "UsageError: Cell magic `%%asyncio` not found.\n"
     ]
    }
   ],
   "source": [
    "%%asyncio\n",
    "os.environ[\"PYTHONASYNCIODEBUG\"] = str(1)\n",
    "\n",
    "device_address = \"C9:BD:0B:8D:56:C7\"\n",
    "loop = asyncio.get_event_loop()"
   ]
  },
  {
   "cell_type": "code",
   "execution_count": 4,
   "metadata": {},
   "outputs": [
    {
     "name": "stderr",
     "output_type": "stream",
     "text": [
      "UsageError: Cell magic `%%asyncio` not found.\n"
     ]
    }
   ],
   "source": [
    "%%asyncio\n",
    "loop.run_until_complete(run(device_address))"
   ]
  },
  {
   "cell_type": "code",
   "execution_count": null,
   "metadata": {},
   "outputs": [],
   "source": [
    "#own script\n",
    "\n",
    "async def run_test(adress):\n",
    "    async with BleakClient(adress) as client:\n",
    "        def my_page_handler(data):\n",
    "            print(data)\n",
    "        \n",
    "        await client.is_connected()\n",
    "        trainer = TacxTrainerControl(client=client)\n",
    "        \n",
    "        trainer.set_specific_trainer_data_page_handler(my_page_handler)\n",
    "        trainer.set_general_fe_data_page_handler(my_page_handler)\n",
    "\n",
    "\n",
    "        await trainer.enable_fec_notifications()\n",
    "        await trainer.set_basic_resistance(0)\n",
    "        await asyncio.sleep(20)\n",
    "        await trainer.disable_fec_notifications()\n",
    "\n",
    "\n",
    "        await trainer.request_data_page"
   ]
  },
  {
   "cell_type": "code",
   "execution_count": null,
   "metadata": {},
   "outputs": [],
   "source": [
    "#loop.stop()"
   ]
  },
  {
   "cell_type": "code",
   "execution_count": null,
   "metadata": {},
   "outputs": [],
   "source": [
    "#general main function\n",
    "import os\n",
    "\n",
    "os.environ[\"PYTHONASYNCIODEBUG\"] = str(1)\n",
    "device_adress = \"C9:BD:0B:8D:56:C7\"\n",
    "loop = asyncio.get_event_loop()\n",
    "loop.run_until_complete(run_test(device_adress))"
   ]
  }
 ],
 "metadata": {
  "kernelspec": {
   "display_name": "Python 3",
   "language": "python",
   "name": "python3"
  },
  "language_info": {
   "codemirror_mode": {
    "name": "ipython",
    "version": 3
   },
   "file_extension": ".py",
   "mimetype": "text/x-python",
   "name": "python",
   "nbconvert_exporter": "python",
   "pygments_lexer": "ipython3",
   "version": "3.10.12"
  },
  "orig_nbformat": 4
 },
 "nbformat": 4,
 "nbformat_minor": 2
}
